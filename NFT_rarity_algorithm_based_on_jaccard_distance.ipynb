{
  "cells": [
    {
      "cell_type": "code",
      "execution_count": 1,
      "metadata": {
        "id": "RTtN3cmY37hk"
      },
      "outputs": [
        {
          "name": "stderr",
          "output_type": "stream",
          "text": [
            "D:\\Anaconda3\\lib\\site-packages\\numpy\\_distributor_init.py:30: UserWarning: loaded more than 1 DLL from .libs:\n",
            "D:\\Anaconda3\\lib\\site-packages\\numpy\\.libs\\libopenblas.QVLO2T66WEPI7JZ63PS3HMOHFEY472BC.gfortran-win_amd64.dll\n",
            "D:\\Anaconda3\\lib\\site-packages\\numpy\\.libs\\libopenblas.XWYDX2IKJW2NMTWSFYNGFUWKQU3LYTCZ.gfortran-win_amd64.dll\n",
            "  warnings.warn(\"loaded more than 1 DLL from .libs:\"\n"
          ]
        }
      ],
      "source": [
        "import pandas as pd\n",
        "import numpy as np\n",
        "\n",
        "dt=pd.read_csv('./mint_data - Sheet1.csv',encoding= 'unicode_escape',index_col='Number')\n",
        "#dt = dt.drop(columns='rarity')"
      ]
    },
    {
      "cell_type": "code",
      "execution_count": 20,
      "metadata": {
        "colab": {
          "base_uri": "https://localhost:8080/",
          "height": 238
        },
        "id": "9SGs3Nw48vOv",
        "outputId": "c66bb42e-ccfe-4e63-fb0d-23028cc7b02e"
      },
      "outputs": [
        {
          "data": {
            "text/html": [
              "\n",
              "  <div id=\"df-f31e389f-3acc-4e49-b6e4-b92885a68243\">\n",
              "    <div class=\"colab-df-container\">\n",
              "      <div>\n",
              "<style scoped>\n",
              "    .dataframe tbody tr th:only-of-type {\n",
              "        vertical-align: middle;\n",
              "    }\n",
              "\n",
              "    .dataframe tbody tr th {\n",
              "        vertical-align: top;\n",
              "    }\n",
              "\n",
              "    .dataframe thead th {\n",
              "        text-align: right;\n",
              "    }\n",
              "</style>\n",
              "<table border=\"1\" class=\"dataframe\">\n",
              "  <thead>\n",
              "    <tr style=\"text-align: right;\">\n",
              "      <th></th>\n",
              "      <th>Gender</th>\n",
              "      <th>Background</th>\n",
              "      <th>Face color</th>\n",
              "      <th>Occasions</th>\n",
              "      <th>Eyes</th>\n",
              "      <th>Accs on face</th>\n",
              "      <th>Facial Expressions</th>\n",
              "      <th>Accs on head</th>\n",
              "      <th>Clothes</th>\n",
              "      <th>Little Accs</th>\n",
              "    </tr>\n",
              "    <tr>\n",
              "      <th>Number</th>\n",
              "      <th></th>\n",
              "      <th></th>\n",
              "      <th></th>\n",
              "      <th></th>\n",
              "      <th></th>\n",
              "      <th></th>\n",
              "      <th></th>\n",
              "      <th></th>\n",
              "      <th></th>\n",
              "      <th></th>\n",
              "    </tr>\n",
              "  </thead>\n",
              "  <tbody>\n",
              "    <tr>\n",
              "      <th>1</th>\n",
              "      <td>1</td>\n",
              "      <td>4</td>\n",
              "      <td>1</td>\n",
              "      <td>2</td>\n",
              "      <td>1</td>\n",
              "      <td>4</td>\n",
              "      <td>1</td>\n",
              "      <td>5</td>\n",
              "      <td>0</td>\n",
              "      <td>0</td>\n",
              "    </tr>\n",
              "    <tr>\n",
              "      <th>2</th>\n",
              "      <td>1</td>\n",
              "      <td>2</td>\n",
              "      <td>2</td>\n",
              "      <td>2</td>\n",
              "      <td>1</td>\n",
              "      <td>3</td>\n",
              "      <td>2</td>\n",
              "      <td>5</td>\n",
              "      <td>18</td>\n",
              "      <td>2</td>\n",
              "    </tr>\n",
              "    <tr>\n",
              "      <th>3</th>\n",
              "      <td>1</td>\n",
              "      <td>3</td>\n",
              "      <td>3</td>\n",
              "      <td>2</td>\n",
              "      <td>1</td>\n",
              "      <td>0</td>\n",
              "      <td>1</td>\n",
              "      <td>5</td>\n",
              "      <td>19</td>\n",
              "      <td>1</td>\n",
              "    </tr>\n",
              "    <tr>\n",
              "      <th>4</th>\n",
              "      <td>2</td>\n",
              "      <td>10</td>\n",
              "      <td>5</td>\n",
              "      <td>2</td>\n",
              "      <td>2</td>\n",
              "      <td>0</td>\n",
              "      <td>1</td>\n",
              "      <td>5</td>\n",
              "      <td>10</td>\n",
              "      <td>2</td>\n",
              "    </tr>\n",
              "    <tr>\n",
              "      <th>5</th>\n",
              "      <td>1</td>\n",
              "      <td>1</td>\n",
              "      <td>4</td>\n",
              "      <td>1</td>\n",
              "      <td>1</td>\n",
              "      <td>0</td>\n",
              "      <td>1</td>\n",
              "      <td>5</td>\n",
              "      <td>4</td>\n",
              "      <td>0</td>\n",
              "    </tr>\n",
              "  </tbody>\n",
              "</table>\n",
              "</div>\n",
              "      <button class=\"colab-df-convert\" onclick=\"convertToInteractive('df-f31e389f-3acc-4e49-b6e4-b92885a68243')\"\n",
              "              title=\"Convert this dataframe to an interactive table.\"\n",
              "              style=\"display:none;\">\n",
              "        \n",
              "  <svg xmlns=\"http://www.w3.org/2000/svg\" height=\"24px\"viewBox=\"0 0 24 24\"\n",
              "       width=\"24px\">\n",
              "    <path d=\"M0 0h24v24H0V0z\" fill=\"none\"/>\n",
              "    <path d=\"M18.56 5.44l.94 2.06.94-2.06 2.06-.94-2.06-.94-.94-2.06-.94 2.06-2.06.94zm-11 1L8.5 8.5l.94-2.06 2.06-.94-2.06-.94L8.5 2.5l-.94 2.06-2.06.94zm10 10l.94 2.06.94-2.06 2.06-.94-2.06-.94-.94-2.06-.94 2.06-2.06.94z\"/><path d=\"M17.41 7.96l-1.37-1.37c-.4-.4-.92-.59-1.43-.59-.52 0-1.04.2-1.43.59L10.3 9.45l-7.72 7.72c-.78.78-.78 2.05 0 2.83L4 21.41c.39.39.9.59 1.41.59.51 0 1.02-.2 1.41-.59l7.78-7.78 2.81-2.81c.8-.78.8-2.07 0-2.86zM5.41 20L4 18.59l7.72-7.72 1.47 1.35L5.41 20z\"/>\n",
              "  </svg>\n",
              "      </button>\n",
              "      \n",
              "  <style>\n",
              "    .colab-df-container {\n",
              "      display:flex;\n",
              "      flex-wrap:wrap;\n",
              "      gap: 12px;\n",
              "    }\n",
              "\n",
              "    .colab-df-convert {\n",
              "      background-color: #E8F0FE;\n",
              "      border: none;\n",
              "      border-radius: 50%;\n",
              "      cursor: pointer;\n",
              "      display: none;\n",
              "      fill: #1967D2;\n",
              "      height: 32px;\n",
              "      padding: 0 0 0 0;\n",
              "      width: 32px;\n",
              "    }\n",
              "\n",
              "    .colab-df-convert:hover {\n",
              "      background-color: #E2EBFA;\n",
              "      box-shadow: 0px 1px 2px rgba(60, 64, 67, 0.3), 0px 1px 3px 1px rgba(60, 64, 67, 0.15);\n",
              "      fill: #174EA6;\n",
              "    }\n",
              "\n",
              "    [theme=dark] .colab-df-convert {\n",
              "      background-color: #3B4455;\n",
              "      fill: #D2E3FC;\n",
              "    }\n",
              "\n",
              "    [theme=dark] .colab-df-convert:hover {\n",
              "      background-color: #434B5C;\n",
              "      box-shadow: 0px 1px 3px 1px rgba(0, 0, 0, 0.15);\n",
              "      filter: drop-shadow(0px 1px 2px rgba(0, 0, 0, 0.3));\n",
              "      fill: #FFFFFF;\n",
              "    }\n",
              "  </style>\n",
              "\n",
              "      <script>\n",
              "        const buttonEl =\n",
              "          document.querySelector('#df-f31e389f-3acc-4e49-b6e4-b92885a68243 button.colab-df-convert');\n",
              "        buttonEl.style.display =\n",
              "          google.colab.kernel.accessAllowed ? 'block' : 'none';\n",
              "\n",
              "        async function convertToInteractive(key) {\n",
              "          const element = document.querySelector('#df-f31e389f-3acc-4e49-b6e4-b92885a68243');\n",
              "          const dataTable =\n",
              "            await google.colab.kernel.invokeFunction('convertToInteractive',\n",
              "                                                     [key], {});\n",
              "          if (!dataTable) return;\n",
              "\n",
              "          const docLinkHtml = 'Like what you see? Visit the ' +\n",
              "            '<a target=\"_blank\" href=https://colab.research.google.com/notebooks/data_table.ipynb>data table notebook</a>'\n",
              "            + ' to learn more about interactive tables.';\n",
              "          element.innerHTML = '';\n",
              "          dataTable['output_type'] = 'display_data';\n",
              "          await google.colab.output.renderOutput(dataTable, element);\n",
              "          const docLink = document.createElement('div');\n",
              "          docLink.innerHTML = docLinkHtml;\n",
              "          element.appendChild(docLink);\n",
              "        }\n",
              "      </script>\n",
              "    </div>\n",
              "  </div>\n",
              "  "
            ],
            "text/plain": [
              "        Gender  Background  Face color  Occasions  Eyes  Accs on face  \\\n",
              "Number                                                                  \n",
              "1            1           4           1          2     1             4   \n",
              "2            1           2           2          2     1             3   \n",
              "3            1           3           3          2     1             0   \n",
              "4            2          10           5          2     2             0   \n",
              "5            1           1           4          1     1             0   \n",
              "\n",
              "        Facial Expressions  Accs on head  Clothes  Little Accs  \n",
              "Number                                                          \n",
              "1                        1             5        0            0  \n",
              "2                        2             5       18            2  \n",
              "3                        1             5       19            1  \n",
              "4                        1             5       10            2  \n",
              "5                        1             5        4            0  "
            ]
          },
          "execution_count": 20,
          "metadata": {},
          "output_type": "execute_result"
        }
      ],
      "source": [
        "dt.head()"
      ]
    },
    {
      "cell_type": "markdown",
      "metadata": {
        "id": "uUVOt1m_XOyV"
      },
      "source": [
        "# New Section"
      ]
    },
    {
      "cell_type": "code",
      "execution_count": 21,
      "metadata": {
        "colab": {
          "base_uri": "https://localhost:8080/"
        },
        "id": "xC60FwHsPKHA",
        "outputId": "510332b5-2125-4797-ba04-364775494266"
      },
      "outputs": [
        {
          "name": "stdout",
          "output_type": "stream",
          "text": [
            "<class 'pandas.core.frame.DataFrame'>\n",
            "Int64Index: 889 entries, 1 to 888\n",
            "Data columns (total 10 columns):\n",
            " #   Column              Non-Null Count  Dtype\n",
            "---  ------              --------------  -----\n",
            " 0   Gender              889 non-null    int64\n",
            " 1   Background          889 non-null    int64\n",
            " 2   Face color          889 non-null    int64\n",
            " 3   Occasions           889 non-null    int64\n",
            " 4   Eyes                889 non-null    int64\n",
            " 5   Accs on face        889 non-null    int64\n",
            " 6   Facial Expressions  889 non-null    int64\n",
            " 7   Accs on head        889 non-null    int64\n",
            " 8   Clothes             889 non-null    int64\n",
            " 9   Little Accs         889 non-null    int64\n",
            "dtypes: int64(10)\n",
            "memory usage: 76.4 KB\n"
          ]
        }
      ],
      "source": [
        "dt.info()"
      ]
    },
    {
      "cell_type": "code",
      "execution_count": 22,
      "metadata": {
        "colab": {
          "base_uri": "https://localhost:8080/"
        },
        "id": "ax9_lEBqGgXh",
        "outputId": "83b3579b-2d65-4c5a-a81d-1b1f0054d987"
      },
      "outputs": [
        {
          "data": {
            "text/plain": [
              "Index(['Gender', 'Background', 'Face color', 'Occasions', 'Eyes',\n",
              "       'Accs on face', 'Facial Expressions', 'Accs on head', 'Clothes',\n",
              "       'Little Accs'],\n",
              "      dtype='object')"
            ]
          },
          "execution_count": 22,
          "metadata": {},
          "output_type": "execute_result"
        }
      ],
      "source": [
        "dt.columns"
      ]
    },
    {
      "cell_type": "code",
      "execution_count": 23,
      "metadata": {
        "id": "TLnkwk0rGK_D"
      },
      "outputs": [],
      "source": [
        "traits_count = {}\n",
        "for col in dt.columns:\n",
        "  traits_count[col]=dt[col].value_counts().to_dict()"
      ]
    },
    {
      "cell_type": "code",
      "execution_count": 24,
      "metadata": {
        "colab": {
          "base_uri": "https://localhost:8080/"
        },
        "id": "AoSKGh3FHKAN",
        "outputId": "99ce01ab-085f-4321-b756-80d53790595d"
      },
      "outputs": [
        {
          "name": "stdout",
          "output_type": "stream",
          "text": [
            "[2, 10, 5, 2, 3, 8, 2, 11, 21, 6]\n",
            "[0.5        0.1        0.2        0.5        0.33333333 0.125\n",
            " 0.5        0.09090909 0.04761905 0.16666667]\n"
          ]
        }
      ],
      "source": [
        "len(dt.Gender.value_counts())\n",
        "value_count = [len(dt[c].value_counts()) for c in dt.columns]\n",
        "print(value_count)\n",
        "print(1./np.array(value_count))"
      ]
    },
    {
      "cell_type": "code",
      "execution_count": 25,
      "metadata": {
        "id": "KNOv_iuh5GGU"
      },
      "outputs": [],
      "source": [
        "\n",
        "# data:\n",
        "# col:features of NFT\n",
        "# row:one NFT\n",
        "\n",
        "\n",
        "def jaccard_distance(df):\n",
        "  all_mean = [] # 存储所有NFT之间的平均距离\n",
        "  value_count = [len(df[c].value_counts()) for c in df.columns] #求得每个特征的类别数目\n",
        "  value_count = np.array(value_count)\n",
        "  weight = 1./value_count\n",
        "  for i in range(len(df)): #对于每一个NFT\n",
        "    nft = df.iloc[i].to_numpy() #提取特征\n",
        "    jaccard_all = [] #存储这个NFT到其他NFT的距离\n",
        "    for j in range(len(df)): #对于每一个其他（包括自己）的NFT\n",
        "      other_nft = df.iloc[j].to_numpy() #提取特征\n",
        "      k = nft==other_nft #找到交集\n",
        "      k = np.array(k)\n",
        "      k = k * weight #增加类别权重，某特征类别越多，越不容易相同，相同的时候权重越小\n",
        "      intersection = k.sum() #得到交集总权重\n",
        "      union = weight.sum()*2 - intersection #得到并集总权重\n",
        "      jaccard_index = intersection/union #求得两NFT之间相似度\n",
        "      jaccard_dis = 1 - jaccard_index #求得两NFT之间差异度\n",
        "      jaccard_all.append(jaccard_dis) \n",
        "    jaccard_all=np.array(jaccard_all)\n",
        "    mean_distance = jaccard_all.mean() #计算此NFT与其他NFT的平均差异\n",
        "    all_mean.append(mean_distance) #将平均差异放入数组\n",
        "  all_mean = np.array(jaccard_all) \n",
        "  all_mean = (all_mean - all_mean.min())*100/(all_mean.max()-all_mean.min()) #归一化\n",
        "  df['rarity'] = all_mean \n",
        "    \n",
        "  \n",
        "jaccard_distance(dt)\n",
        "\n"
      ]
    },
    {
      "cell_type": "code",
      "execution_count": 26,
      "metadata": {
        "colab": {
          "base_uri": "https://localhost:8080/"
        },
        "id": "9I0Td_buJdxU",
        "outputId": "bf32479b-4966-49a0-d31d-ec03c980b26c"
      },
      "outputs": [
        {
          "name": "stdout",
          "output_type": "stream",
          "text": [
            "        Gender  Background  Face color  Occasions  Eyes  Accs on face  \\\n",
            "Number                                                                  \n",
            "1            1           4           1          2     1             4   \n",
            "2            1           2           2          2     1             3   \n",
            "3            1           3           3          2     1             0   \n",
            "4            2          10           5          2     2             0   \n",
            "5            1           1           4          1     1             0   \n",
            "...        ...         ...         ...        ...   ...           ...   \n",
            "884          1           3           4          2     1             4   \n",
            "885          1           6           3          2     1             0   \n",
            "886          1           1           1          2     2             0   \n",
            "887          1           6           1          2     1             0   \n",
            "888          1           9           1          2     1             0   \n",
            "\n",
            "        Facial Expressions  Accs on head  Clothes  Little Accs     rarity  \n",
            "Number                                                                     \n",
            "1                        1             5        0            0  42.529773  \n",
            "2                        2             5       18            2  80.472463  \n",
            "3                        1             5       19            1  36.250805  \n",
            "4                        1             5       10            2  89.201916  \n",
            "5                        1             5        4            0  74.758905  \n",
            "...                    ...           ...      ...          ...        ...  \n",
            "884                      1             0       16            0  55.016212  \n",
            "885                      1             9       16            2  47.396900  \n",
            "886                      1             5       16            0  55.503656  \n",
            "887                      1             4       15            0  33.871405  \n",
            "888                      1             6       13            1   0.000000  \n",
            "\n",
            "[889 rows x 11 columns]\n"
          ]
        }
      ],
      "source": [
        "print(dt)"
      ]
    },
    {
      "cell_type": "code",
      "execution_count": 27,
      "metadata": {
        "colab": {
          "base_uri": "https://localhost:8080/"
        },
        "id": "pTtCWa4SFl0F",
        "outputId": "4bdc2dc8-5cbb-4e75-9ad5-6843470ff1ac"
      },
      "outputs": [
        {
          "name": "stderr",
          "output_type": "stream",
          "text": [
            "/usr/local/lib/python3.7/dist-packages/pandas/core/series.py:1056: SettingWithCopyWarning: \n",
            "A value is trying to be set on a copy of a slice from a DataFrame\n",
            "\n",
            "See the caveats in the documentation: https://pandas.pydata.org/pandas-docs/stable/user_guide/indexing.html#returning-a-view-versus-a-copy\n",
            "  cacher_needs_updating = self._check_is_chained_assignment_possible()\n"
          ]
        }
      ],
      "source": [
        "avg_rar = dt.copy(deep=True).astype(float)\n",
        "\n",
        "\n",
        "def avg_rarity(df):\n",
        "  \n",
        "  for i in range(len(df)): #对于每一个NFT\n",
        "    nft = df.iloc[i] #提取特征\n",
        "    for k,v in traits_count.items():\n",
        "      # print(v[nft[k]]/float(df.shape[0]))\n",
        "      avg_rar.iloc[i][k] = float(v[nft[k]])/float(df.shape[0])\n",
        " \n",
        "\n",
        "avg_rarity(dt)\n",
        "avg_rar['average_rarity'] = avg_rar.iloc[:,0:avg_rar.shape[1]-1].sum(axis=1)/(avg_rar.shape[1]-1)\n"
      ]
    },
    {
      "cell_type": "code",
      "execution_count": 28,
      "metadata": {
        "colab": {
          "base_uri": "https://localhost:8080/"
        },
        "id": "hn4jnzTRTMAy",
        "outputId": "01d25208-cc31-44fc-f408-0485e7b4f6d8"
      },
      "outputs": [
        {
          "data": {
            "text/plain": [
              "Number\n",
              "1      1.9\n",
              "2      3.8\n",
              "3      3.6\n",
              "4      3.9\n",
              "5      1.8\n",
              "      ... \n",
              "884    3.2\n",
              "885    4.1\n",
              "886    2.9\n",
              "887    3.1\n",
              "888    3.5\n",
              "Name: average_rarity, Length: 889, dtype: float64"
            ]
          },
          "execution_count": 28,
          "metadata": {},
          "output_type": "execute_result"
        }
      ],
      "source": [
        "avg_rar['average_rarity']"
      ]
    },
    {
      "cell_type": "code",
      "execution_count": 29,
      "metadata": {
        "colab": {
          "base_uri": "https://localhost:8080/"
        },
        "id": "bpM8aWoaOYST",
        "outputId": "91ab10ed-61c3-49de-9498-d786cf7faab6"
      },
      "outputs": [
        {
          "data": {
            "text/plain": [
              "0.8     1\n",
              "0.9     1\n",
              "1.0     1\n",
              "1.1     1\n",
              "1.2     4\n",
              "1.3     5\n",
              "1.4     3\n",
              "1.5     7\n",
              "1.6    12\n",
              "1.7    19\n",
              "1.8    13\n",
              "1.9    21\n",
              "2.0    20\n",
              "2.1    15\n",
              "2.2    27\n",
              "2.3    10\n",
              "2.4    24\n",
              "2.5    16\n",
              "2.6    25\n",
              "2.7    29\n",
              "2.8    47\n",
              "2.9    29\n",
              "3.0    44\n",
              "3.1    49\n",
              "3.2    47\n",
              "3.3    57\n",
              "3.4    47\n",
              "3.5    40\n",
              "3.6    52\n",
              "3.7    41\n",
              "3.8    37\n",
              "3.9    32\n",
              "4.0    28\n",
              "4.1    26\n",
              "4.2    13\n",
              "4.3    13\n",
              "4.4    13\n",
              "4.5     6\n",
              "4.6     5\n",
              "4.7     3\n",
              "4.8     1\n",
              "4.9     3\n",
              "5.1     1\n",
              "5.4     1\n",
              "Name: average_rarity, dtype: int64"
            ]
          },
          "execution_count": 29,
          "metadata": {},
          "output_type": "execute_result"
        }
      ],
      "source": [
        "avg_rar['average_rarity'].value_counts().sort_index()"
      ]
    },
    {
      "cell_type": "code",
      "execution_count": 30,
      "metadata": {
        "colab": {
          "base_uri": "https://localhost:8080/",
          "height": 288
        },
        "id": "tMMQIIHeHYLV",
        "outputId": "9287b9bb-7948-464f-94cf-6244ac3cc22d"
      },
      "outputs": [
        {
          "data": {
            "text/plain": [
              "<matplotlib.axes._subplots.AxesSubplot at 0x7f78dca46b10>"
            ]
          },
          "execution_count": 30,
          "metadata": {},
          "output_type": "execute_result"
        },
        {
          "data": {
            "image/png": "[encoded data removed]",
            "text/plain": [
              "<Figure size 432x288 with 1 Axes>"
            ]
          },
          "metadata": {
            "needs_background": "light"
          },
          "output_type": "display_data"
        }
      ],
      "source": [
        "avg_rar['average_rarity'].value_counts().sort_index().plot(kind='bar')"
      ]
    },
    {
      "cell_type": "code",
      "execution_count": 31,
      "metadata": {
        "id": "B4ROlERG_bOl"
      },
      "outputs": [],
      "source": [
        "pd.options.display.max_columns = None\n",
        "pd.options.display.max_rows = None"
      ]
    },
    {
      "cell_type": "code",
      "execution_count": 32,
      "metadata": {
        "colab": {
          "base_uri": "https://localhost:8080/"
        },
        "id": "x5S5W9kEZmjJ",
        "outputId": "bea71eec-4cfe-46af-c696-41043f5cefd0"
      },
      "outputs": [
        {
          "name": "stdout",
          "output_type": "stream",
          "text": [
            "<class 'pandas.core.frame.DataFrame'>\n",
            "Int64Index: 889 entries, 1 to 888\n",
            "Data columns (total 11 columns):\n",
            " #   Column              Non-Null Count  Dtype  \n",
            "---  ------              --------------  -----  \n",
            " 0   Gender              889 non-null    int64  \n",
            " 1   Background          889 non-null    int64  \n",
            " 2   Face color          889 non-null    int64  \n",
            " 3   Occasions           889 non-null    int64  \n",
            " 4   Eyes                889 non-null    int64  \n",
            " 5   Accs on face        889 non-null    int64  \n",
            " 6   Facial Expressions  889 non-null    int64  \n",
            " 7   Accs on head        889 non-null    int64  \n",
            " 8   Clothes             889 non-null    int64  \n",
            " 9   Little Accs         889 non-null    int64  \n",
            " 10  rarity              889 non-null    float64\n",
            "dtypes: float64(1), int64(10)\n",
            "memory usage: 83.3 KB\n"
          ]
        }
      ],
      "source": [
        "dt.info()"
      ]
    },
    {
      "cell_type": "code",
      "execution_count": 33,
      "metadata": {
        "colab": {
          "base_uri": "https://localhost:8080/",
          "height": 384
        },
        "id": "9wyGpmHbL3d1",
        "outputId": "26d73ac7-5508-4178-8fdd-5da6eeeba850"
      },
      "outputs": [
        {
          "data": {
            "text/plain": [
              "<matplotlib.axes._subplots.AxesSubplot at 0x7f78dc25bc50>"
            ]
          },
          "execution_count": 33,
          "metadata": {},
          "output_type": "execute_result"
        },
        {
          "data": {
            "image/png": "[encoded data removed]",
            "text/plain": [
              "<Figure size 432x288 with 1 Axes>"
            ]
          },
          "metadata": {
            "needs_background": "light"
          },
          "output_type": "display_data"
        }
      ],
      "source": [
        "dt['rarity'].value_counts().sort_index().plot(kind='bar')\n"
      ]
    },
    {
      "cell_type": "code",
      "execution_count": null,
      "metadata": {
        "id": "FawXpGLsC89S"
      },
      "outputs": [],
      "source": []
    },
    {
      "cell_type": "code",
      "execution_count": 34,
      "metadata": {
        "colab": {
          "base_uri": "https://localhost:8080/"
        },
        "id": "pOvE5GD2DmPX",
        "outputId": "9d0c9b01-53cf-42db-c898-0e2f7ef5e882"
      },
      "outputs": [
        {
          "data": {
            "text/plain": [
              "count    889.000000\n",
              "mean      55.076727\n",
              "std       19.313968\n",
              "min        0.000000\n",
              "25%       39.315138\n",
              "50%       55.016212\n",
              "75%       72.766872\n",
              "max      100.000000\n",
              "Name: rarity, dtype: float64"
            ]
          },
          "execution_count": 34,
          "metadata": {},
          "output_type": "execute_result"
        }
      ],
      "source": [
        "dt['rarity'].describe()"
      ]
    },
    {
      "cell_type": "code",
      "execution_count": 35,
      "metadata": {
        "colab": {
          "base_uri": "https://localhost:8080/"
        },
        "id": "2ZF7YgIGMcF8",
        "outputId": "805054b0-961e-421b-cfd8-d3d6e3614804"
      },
      "outputs": [
        {
          "data": {
            "text/plain": [
              "33.871405     106\n",
              "42.529773     105\n",
              "74.758905      77\n",
              "80.472463      68\n",
              "64.760688      61\n",
              "55.016212      49\n",
              "80.840009      45\n",
              "47.396900      41\n",
              "71.139986      41\n",
              "21.125246      25\n",
              "66.506362      24\n",
              "55.503656      20\n",
              "59.824643      15\n",
              "39.315138      14\n",
              "30.378063      13\n",
              "35.660922      12\n",
              "70.352832      12\n",
              "26.401436      11\n",
              "27.101976      10\n",
              "69.899878      10\n",
              "89.201916       9\n",
              "66.545650       8\n",
              "36.304268       8\n",
              "52.182810       6\n",
              "32.226148       6\n",
              "72.766872       5\n",
              "95.557269       5\n",
              "36.250805       5\n",
              "44.333771       5\n",
              "48.968477       4\n",
              "61.665075       3\n",
              "49.486882       3\n",
              "22.658175       3\n",
              "34.525615       3\n",
              "72.478553       3\n",
              "40.854529       3\n",
              "75.932553       3\n",
              "76.741199       3\n",
              "12.722798       3\n",
              "76.355405       3\n",
              "41.466858       3\n",
              "29.005837       2\n",
              "100.000000      2\n",
              "52.684641       2\n",
              "13.512270       2\n",
              "17.200170       1\n",
              "23.382526       1\n",
              "38.218641       1\n",
              "9.317121        1\n",
              "61.166716       1\n",
              "28.948626       1\n",
              "69.899878       1\n",
              "37.586887       1\n",
              "56.951336       1\n",
              "90.188755       1\n",
              "44.721764       1\n",
              "78.340830       1\n",
              "62.530841       1\n",
              "92.155114       1\n",
              "15.149354       1\n",
              "49.533876       1\n",
              "32.835227       1\n",
              "45.953475       1\n",
              "21.859462       1\n",
              "71.586668       1\n",
              "50.049347       1\n",
              "29.633191       1\n",
              "58.512131       1\n",
              "8.499118        1\n",
              "32.890427       1\n",
              "64.002229       1\n",
              "76.320247       1\n",
              "0.000000        1\n",
              "Name: rarity, dtype: int64"
            ]
          },
          "execution_count": 35,
          "metadata": {},
          "output_type": "execute_result"
        }
      ],
      "source": [
        "dt['rarity'].value_counts()"
      ]
    },
    {
      "cell_type": "code",
      "execution_count": null,
      "metadata": {
        "id": "wmSJCs_tMkgH"
      },
      "outputs": [],
      "source": [
        "dt.to_csv('./calculated_rarity_sheet.csv')"
      ]
    },
    {
      "cell_type": "code",
      "execution_count": null,
      "metadata": {
        "id": "zk588cbkMl8O"
      },
      "outputs": [],
      "source": []
    }
  ],
  "metadata": {
    "colab": {
      "collapsed_sections": [],
      "name": "NFT rarity algorithm based on jaccard distance.ipynb",
      "provenance": []
    },
    "kernelspec": {
      "display_name": "Python 3",
      "name": "python3"
    },
    "language_info": {
      "codemirror_mode": {
        "name": "ipython",
        "version": 3
      },
      "file_extension": ".py",
      "mimetype": "text/x-python",
      "name": "python",
      "nbconvert_exporter": "python",
      "pygments_lexer": "ipython3",
      "version": "3.8.8"
    }
  },
  "nbformat": 4,
  "nbformat_minor": 0
}
